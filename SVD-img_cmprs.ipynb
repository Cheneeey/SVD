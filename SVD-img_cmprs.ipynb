{
 "cells": [
  {
   "cell_type": "code",
   "execution_count": null,
   "metadata": {},
   "outputs": [],
   "source": [
    "def img_compression(u, sigma, v, p):  # p表示奇异值的百分比\n",
    "    print(p)\n",
    "    m = len(u)\n",
    "    n = len(v)\n",
    "    a = np.zeros((m, n))\n",
    "\n",
    "    count = (int)(sum(sigma))\n",
    "    curSum = 0\n",
    "    k = 0\n",
    "    while curSum <= count * p:\n",
    "        uk = u[:, k].reshape(m, 1)\n",
    "        vk = v[k].reshape(1, n)\n",
    "        a += sigma[k] * np.dot(uk, vk)\n",
    "        curSum += sigma[k]\n",
    "        k += 1\n",
    "    \n",
    "    a[a < 0] = 0\n",
    "    a[a > 255] = 255\n",
    "    return np.rint(a).astype(\"uint8\")\n",
    "\n",
    "\n",
    "if __name__ == '__main__':\n",
    "    img = Image.open('data/Demo.jpg', 'r')\n",
    "    a = np.array(img)\n",
    "\n",
    "    for p in np.arange(0.1, 1, 0.1):\n",
    "        u, sigma, v = np.linalg.svd(a[:, :, 0])\n",
    "        R = img_compression(u, sigma, v, p)\n",
    "\n",
    "        u, sigma, v = np.linalg.svd(a[:, :, 1])\n",
    "        G = img_compression(u, sigma, v, p)\n",
    "\n",
    "        u, sigma, v = np.linalg.svd(a[:, :, 2])\n",
    "        B = img_compression(u, sigma, v, p)\n",
    "\n",
    "        I = np.stack((R, G, B), -1)\n",
    "\n",
    "        Image.fromarray(I).save(\"data/img_svd_\" + str(int(p * 100)) + \"%.jpg\")\n",
    "\n"
   ]
  }
 ],
 "metadata": {
  "kernelspec": {
   "display_name": "Python 3",
   "language": "python",
   "name": "python3"
  },
  "language_info": {
   "codemirror_mode": {
    "name": "ipython",
    "version": 3
   },
   "file_extension": ".py",
   "mimetype": "text/x-python",
   "name": "python",
   "nbconvert_exporter": "python",
   "pygments_lexer": "ipython3",
   "version": "3.8.3"
  }
 },
 "nbformat": 4,
 "nbformat_minor": 4
}
